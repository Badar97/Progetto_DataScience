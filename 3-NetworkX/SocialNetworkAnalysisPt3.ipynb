{
  "cells": [
    {
      "cell_type": "markdown",
      "metadata": {
        "id": "view-in-github",
        "colab_type": "text"
      },
      "source": [
        "<a href=\"https://colab.research.google.com/github/Badar97/Progetto_DataScience/blob/main/3-NetworkX/SocialNetworkAnalysisPt3.ipynb\" target=\"_parent\"><img src=\"https://colab.research.google.com/assets/colab-badge.svg\" alt=\"Open In Colab\"/></a>"
      ]
    },
    {
      "cell_type": "markdown",
      "source": [
        "# **SOCIAL NETWORK ANALYSIS 3**"
      ],
      "metadata": {
        "id": "eei1vw9O3E6e"
      },
      "id": "eei1vw9O3E6e"
    },
    {
      "cell_type": "markdown",
      "source": [
        "## **0 Inizializzazione**"
      ],
      "metadata": {
        "id": "XNJUWdCd3Rwq"
      },
      "id": "XNJUWdCd3Rwq"
    },
    {
      "cell_type": "code",
      "source": [
        "import networkx as nx\n",
        "import pandas as pd\n",
        "import warnings\n",
        "import requests\n",
        "import matplotlib.pyplot as plt\n",
        "import matplotlib.colors as mcolors\n",
        "import numpy as np\n",
        "warnings.filterwarnings('ignore')"
      ],
      "metadata": {
        "id": "73W5IuJF5YYJ"
      },
      "id": "73W5IuJF5YYJ",
      "execution_count": 1,
      "outputs": []
    },
    {
      "cell_type": "code",
      "source": [
        "%matplotlib inline "
      ],
      "metadata": {
        "id": "EDDSr_R35c81"
      },
      "id": "EDDSr_R35c81",
      "execution_count": 2,
      "outputs": []
    },
    {
      "cell_type": "code",
      "source": [
        "url = \"https://raw.githubusercontent.com/Badar97/Progetto_DataScience/main/3-NetworkX/arenas-jazz.edges\"\n",
        "req = requests.get(url)\n",
        "req = req.text\n",
        "\n",
        "split = req.split('\\n')\n",
        "splitted = list(split)\n",
        "\n",
        "dati = pd.DataFrame(splitted, columns = ['archi'])\n",
        "dati[['nodo1', 'nodo2']] = dati.archi.str.split(\",\", expand = True)\n",
        "dati.drop(dati.tail(1).index,inplace=True)\n",
        "\n",
        "archi = dati.drop(['archi'], axis=1)"
      ],
      "metadata": {
        "id": "BuivBK0DFfRw"
      },
      "id": "BuivBK0DFfRw",
      "execution_count": 47,
      "outputs": []
    },
    {
      "cell_type": "code",
      "source": [
        "G = nx.from_pandas_edgelist(archi, source='nodo1', target='nodo2')"
      ],
      "metadata": {
        "id": "uxOruVbDt1Cp"
      },
      "id": "uxOruVbDt1Cp",
      "execution_count": 48,
      "outputs": []
    }
  ],
  "metadata": {
    "kernelspec": {
      "display_name": "Python 3 (ipykernel)",
      "language": "python",
      "name": "python3"
    },
    "language_info": {
      "codemirror_mode": {
        "name": "ipython",
        "version": 3
      },
      "file_extension": ".py",
      "mimetype": "text/x-python",
      "name": "python",
      "nbconvert_exporter": "python",
      "pygments_lexer": "ipython3",
      "version": "3.10.4"
    },
    "colab": {
      "provenance": [],
      "include_colab_link": true
    }
  },
  "nbformat": 4,
  "nbformat_minor": 5
}
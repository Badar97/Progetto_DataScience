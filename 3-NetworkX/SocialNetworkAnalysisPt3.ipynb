{
  "cells": [
    {
      "cell_type": "markdown",
      "metadata": {
        "id": "view-in-github",
        "colab_type": "text"
      },
      "source": [
        "<a href=\"https://colab.research.google.com/github/Badar97/Progetto_DataScience/blob/main/3-NetworkX/SocialNetworkAnalysisPt3.ipynb\" target=\"_parent\"><img src=\"https://colab.research.google.com/assets/colab-badge.svg\" alt=\"Open In Colab\"/></a>"
      ]
    },
    {
      "cell_type": "markdown",
      "source": [
        "# **SOCIAL NETWORK ANALYSIS 3**"
      ],
      "metadata": {
        "id": "eei1vw9O3E6e"
      },
      "id": "eei1vw9O3E6e"
    },
    {
      "cell_type": "markdown",
      "source": [
        "## **0 Inizializzazione**"
      ],
      "metadata": {
        "id": "XNJUWdCd3Rwq"
      },
      "id": "XNJUWdCd3Rwq"
    },
    {
      "cell_type": "code",
      "source": [
        "import networkx as nx\n",
        "from networkx.algorithms.approximation import clique\n",
        "import pandas as pd\n",
        "import seaborn as sns\n",
        "import warnings\n",
        "import requests\n",
        "import matplotlib.pyplot as plt\n",
        "import matplotlib.colors as mcolors\n",
        "import seaborn as sns\n",
        "import numpy as np\n",
        "import collections\n",
        "from collections import defaultdict\n",
        "from itertools import combinations\n",
        "import scipy.sparse.linalg\n",
        "warnings.filterwarnings('ignore')"
      ],
      "metadata": {
        "id": "73W5IuJF5YYJ"
      },
      "id": "73W5IuJF5YYJ",
      "execution_count": 39,
      "outputs": []
    },
    {
      "cell_type": "code",
      "source": [
        "%matplotlib inline "
      ],
      "metadata": {
        "id": "EDDSr_R35c81"
      },
      "id": "EDDSr_R35c81",
      "execution_count": 40,
      "outputs": []
    },
    {
      "cell_type": "code",
      "source": [
        "url = \"https://raw.githubusercontent.com/Badar97/Progetto_DataScience/main/3-NetworkX/arenas-jazz.edges\"\n",
        "req = requests.get(url)\n",
        "req = req.text\n",
        "\n",
        "split = req.split('\\n')\n",
        "splitted = list(split)\n",
        "\n",
        "dati = pd.DataFrame(splitted, columns = ['archi'])\n",
        "dati[['nodo1', 'nodo2']] = dati.archi.str.split(\",\", expand = True)\n",
        "dati.drop(dati.tail(1).index,inplace=True)\n",
        "\n",
        "archi = dati.drop(['archi'], axis=1)"
      ],
      "metadata": {
        "id": "BuivBK0DFfRw"
      },
      "id": "BuivBK0DFfRw",
      "execution_count": 41,
      "outputs": []
    },
    {
      "cell_type": "code",
      "source": [
        "G = nx.from_pandas_edgelist(archi, source='nodo1', target='nodo2')"
      ],
      "metadata": {
        "id": "uxOruVbDt1Cp"
      },
      "id": "uxOruVbDt1Cp",
      "execution_count": 42,
      "outputs": []
    },
    {
      "cell_type": "code",
      "source": [
        "grado = dict(G.degree())\n",
        "gradi = list(grado.values())\n",
        "nodes = list(G.nodes)\n",
        "densita = nx.density(G)\n",
        "cluster = nx.clustering(G)\n",
        "gr = G.degree()"
      ],
      "metadata": {
        "id": "AoV4hr3fwbvt"
      },
      "id": "AoV4hr3fwbvt",
      "execution_count": 43,
      "outputs": []
    },
    {
      "cell_type": "code",
      "source": [
        "colors = [gr[n] for n in nodes]\n",
        "size = [(5*gr[n]) for n in nodes]\n",
        "cmap = plt.cm.viridis_r\n",
        "cmap = plt.cm.Greys\n",
        "#vmin = min(colors)\n",
        "#vmax = max(colors)"
      ],
      "metadata": {
        "id": "ybw-YaWncV-8"
      },
      "id": "ybw-YaWncV-8",
      "execution_count": 44,
      "outputs": []
    },
    {
      "cell_type": "code",
      "source": [
        "pos = nx.spring_layout(G)\n",
        "posc = nx.circular_layout(G)\n",
        "posk = nx.kamada_kawai_layout(G)\n",
        "poss = nx.spiral_layout(G)"
      ],
      "metadata": {
        "id": "XiYyti9Tvatc"
      },
      "id": "XiYyti9Tvatc",
      "execution_count": 45,
      "outputs": []
    },
    {
      "cell_type": "code",
      "source": [
        "def draw(G, pos, measures, measure_name, nodes_size):\n",
        "    plt.figure(figsize=(15,15))\n",
        "    nodes = nx.draw_networkx_nodes(G, pos, node_size=nodes_size, cmap=plt.cm.plasma, \n",
        "                                   node_color=list(measures.values()),\n",
        "                                   nodelist=measures.keys())\n",
        "    nodes.set_norm(mcolors.SymLogNorm(linthresh=0.01, linscale=1, base=10))\n",
        "    #labels = nx.draw_networkx_labels(G, pos)\n",
        "    edges = nx.draw_networkx_edges(G, pos, alpha=0.2)\n",
        "    \n",
        "    plt.title(measure_name)\n",
        "    plt.colorbar(nodes)\n",
        "    plt.axis('off')\n",
        "    plt.show()"
      ],
      "metadata": {
        "id": "KQjW1vFdwOlA"
      },
      "id": "KQjW1vFdwOlA",
      "execution_count": 46,
      "outputs": []
    },
    {
      "cell_type": "code",
      "source": [
        "def figura(titl, raws, cols, l, h): \n",
        "  # l=lunghezza, h=altezza\n",
        "  fig, axes = plt.subplots(raws,cols)\n",
        "  fig.set_size_inches(l,h)\n",
        "  fig.suptitle(titl, fontsize = 20, y = 0.94)\n",
        "  plt.subplots_adjust(hspace = 0.4)\n",
        "  return axes"
      ],
      "metadata": {
        "id": "EW3mlMj9Ti_d"
      },
      "id": "EW3mlMj9Ti_d",
      "execution_count": 47,
      "outputs": []
    },
    {
      "cell_type": "code",
      "source": [
        "def top_ranks(titolo, valore):\n",
        "  ranks = [(k, v) for k, v in sorted(valore.items(), key=lambda item: -item[1])]\n",
        "  print(titolo)\n",
        "  for i in range(0, len(ranks[0:10])):\n",
        "    print(str(i+1)+'. '+str(ranks[i]))"
      ],
      "metadata": {
        "id": "K77rn3LJxTf6"
      },
      "id": "K77rn3LJxTf6",
      "execution_count": 48,
      "outputs": []
    },
    {
      "cell_type": "code",
      "source": [
        "def cli_graph(graph):  \n",
        "  fig = plt.figure(figsize=(10,8))\n",
        "  nx.draw(graph, alpha = 0.8, node_color = '#22B015', \n",
        "          with_labels= True, font_size = 16, \n",
        "          width = 0.2, edge_color ='black')\n",
        "  fig.suptitle(f'Clique costituita da {len(graph)} nodi e {len(graph.edges)} archi', fontsize=20)\n",
        "  plt.show()"
      ],
      "metadata": {
        "id": "Jg9CWvD8G6Lm"
      },
      "id": "Jg9CWvD8G6Lm",
      "execution_count": 49,
      "outputs": []
    },
    {
      "cell_type": "code",
      "source": [
        "# create ego network\n",
        "def ego_net_top5(ego):\n",
        "  ego_network = nx.ego_graph(G, ego)\n",
        "  print(\"Nodes: \", len(ego_network.nodes))\n",
        "  print(\"Edges: \", len(ego_network.edges))\n",
        "  options = {'node_size': 2500, 'node_color': 'r'}\n",
        "  plt.figure(figsize=(10,10))\n",
        "  nx.draw(ego_network, pos, node_color='Green', node_size=800, \n",
        "          with_labels=True, edge_color=\"grey\")\n",
        "  nx.draw_networkx_nodes(ego_network, pos, nodelist=[ego], **options)\n",
        "  plt.show()\n",
        "  \n"
      ],
      "metadata": {
        "id": "5FqIbyBKq2Je"
      },
      "id": "5FqIbyBKq2Je",
      "execution_count": 50,
      "outputs": []
    }
  ],
  "metadata": {
    "kernelspec": {
      "display_name": "Python 3 (ipykernel)",
      "language": "python",
      "name": "python3"
    },
    "language_info": {
      "codemirror_mode": {
        "name": "ipython",
        "version": 3
      },
      "file_extension": ".py",
      "mimetype": "text/x-python",
      "name": "python",
      "nbconvert_exporter": "python",
      "pygments_lexer": "ipython3",
      "version": "3.10.4"
    },
    "colab": {
      "provenance": [],
      "include_colab_link": true
    }
  },
  "nbformat": 4,
  "nbformat_minor": 5
}
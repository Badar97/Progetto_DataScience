{
  "cells": [
    {
      "cell_type": "markdown",
      "metadata": {
        "id": "view-in-github",
        "colab_type": "text"
      },
      "source": [
        "<a href=\"https://colab.research.google.com/github/Badar97/Progetto_DataScience/blob/main/3-NetworkX/SocialNetworkAnalysis.ipynb\" target=\"_parent\"><img src=\"https://colab.research.google.com/assets/colab-badge.svg\" alt=\"Open In Colab\"/></a>"
      ]
    },
    {
      "cell_type": "code",
      "source": [
        "import networkx as nx\n",
        "import pandas as pd\n",
        "import seaborn as sns\n",
        "import warnings\n",
        "import requests\n",
        "\n",
        "warnings.filterwarnings('ignore')"
      ],
      "metadata": {
        "id": "73W5IuJF5YYJ"
      },
      "id": "73W5IuJF5YYJ",
      "execution_count": 38,
      "outputs": []
    },
    {
      "cell_type": "code",
      "source": [
        "%matplotlib inline "
      ],
      "metadata": {
        "id": "EDDSr_R35c81"
      },
      "id": "EDDSr_R35c81",
      "execution_count": 39,
      "outputs": []
    },
    {
      "cell_type": "code",
      "source": [
        "url = \"https://raw.githubusercontent.com/Badar97/Progetto_DataScience/main/3-NetworkX/arenas-jazz.edges\"\n",
        "req = requests.get(url)\n",
        "req = req.text\n",
        "\n",
        "split = req.split('\\n')\n",
        "splitted = list(split)\n",
        "\n",
        "dati = pd.DataFrame(splitted, columns = ['archi'])\n",
        "dati[['nodo1', 'nodo2']] = dati.archi.str.split(\",\", expand = True)\n",
        "dati.drop(dati.tail(1).index,inplace=True)\n",
        "\n",
        "archi = dati.drop(['archi'], axis=1)"
      ],
      "metadata": {
        "id": "BuivBK0DFfRw"
      },
      "id": "BuivBK0DFfRw",
      "execution_count": 49,
      "outputs": []
    },
    {
      "cell_type": "code",
      "source": [
        "G = nx.from_pandas_edgelist(archi, source='nodo1', target='nodo2')"
      ],
      "metadata": {
        "id": "uxOruVbDt1Cp"
      },
      "id": "uxOruVbDt1Cp",
      "execution_count": 52,
      "outputs": []
    },
    {
      "cell_type": "code",
      "source": [
        "print(\"NODES: \", len(G.nodes))\n",
        "print(\"EDGES: \", len(G.edges))\n",
        "print(\"DENSITY: \", nx.density(G))\n",
        "print(\"IS_CONNECTED: \", nx.is_connected(G))"
      ],
      "metadata": {
        "id": "XYqfcmDuucUU",
        "outputId": "bb9a5acf-00b5-4a50-80ec-14155478a2a3",
        "colab": {
          "base_uri": "https://localhost:8080/"
        }
      },
      "id": "XYqfcmDuucUU",
      "execution_count": 53,
      "outputs": [
        {
          "output_type": "stream",
          "name": "stdout",
          "text": [
            "NODES:  198\n",
            "EDGES:  2742\n",
            "DENSITY:  0.14059375480695277\n",
            "IS_CONNECTED:  True\n"
          ]
        }
      ]
    },
    {
      "cell_type": "code",
      "source": [],
      "metadata": {
        "id": "9t4CHbyjulfi"
      },
      "id": "9t4CHbyjulfi",
      "execution_count": null,
      "outputs": []
    }
  ],
  "metadata": {
    "kernelspec": {
      "display_name": "Python 3 (ipykernel)",
      "language": "python",
      "name": "python3"
    },
    "language_info": {
      "codemirror_mode": {
        "name": "ipython",
        "version": 3
      },
      "file_extension": ".py",
      "mimetype": "text/x-python",
      "name": "python",
      "nbconvert_exporter": "python",
      "pygments_lexer": "ipython3",
      "version": "3.10.4"
    },
    "colab": {
      "provenance": [],
      "include_colab_link": true
    }
  },
  "nbformat": 4,
  "nbformat_minor": 5
}
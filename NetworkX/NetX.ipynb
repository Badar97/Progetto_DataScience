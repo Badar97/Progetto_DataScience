{
  "cells": [
    {
      "cell_type": "markdown",
      "metadata": {
        "id": "view-in-github",
        "colab_type": "text"
      },
      "source": [
        "<a href=\"https://colab.research.google.com/github/Badar97/Progetto_DataScience/blob/main/NetworkX/NetX.ipynb\" target=\"_parent\"><img src=\"https://colab.research.google.com/assets/colab-badge.svg\" alt=\"Open In Colab\"/></a>"
      ]
    },
    {
      "cell_type": "markdown",
      "source": [
        "# **1 ANALISI DESCRITTIVA**"
      ],
      "metadata": {
        "id": "ASkkXTrYe3-S"
      },
      "id": "ASkkXTrYe3-S"
    },
    {
      "cell_type": "markdown",
      "source": [
        "## **1.1 Inizializzazione**"
      ],
      "metadata": {
        "id": "Pqa3jsZ6fi-d"
      },
      "id": "Pqa3jsZ6fi-d"
    },
    {
      "cell_type": "code",
      "source": [
        "! git clone 'https://github.com/Badar97/Progetto_DataScience'"
      ],
      "metadata": {
        "colab": {
          "base_uri": "https://localhost:8080/"
        },
        "id": "73W5IuJF5YYJ",
        "outputId": "1eb6fccb-4cc0-4521-d298-57ebe340b943"
      },
      "id": "73W5IuJF5YYJ",
      "execution_count": null,
      "outputs": [
        {
          "output_type": "stream",
          "name": "stdout",
          "text": [
            "Cloning into 'Progetto_DataScience'...\n",
            "remote: Enumerating objects: 147, done.\u001b[K\n",
            "remote: Counting objects: 100% (72/72), done.\u001b[K\n",
            "remote: Compressing objects: 100% (72/72), done.\u001b[K\n",
            "remote: Total 147 (delta 44), reused 0 (delta 0), pack-reused 75\u001b[K\n",
            "Receiving objects: 100% (147/147), 44.73 MiB | 11.85 MiB/s, done.\n",
            "Resolving deltas: 100% (63/63), done.\n"
          ]
        }
      ]
    }
  ],
  "metadata": {
    "kernelspec": {
      "display_name": "Python 3 (ipykernel)",
      "language": "python",
      "name": "python3"
    },
    "language_info": {
      "codemirror_mode": {
        "name": "ipython",
        "version": 3
      },
      "file_extension": ".py",
      "mimetype": "text/x-python",
      "name": "python",
      "nbconvert_exporter": "python",
      "pygments_lexer": "ipython3",
      "version": "3.10.4"
    },
    "colab": {
      "provenance": [],
      "include_colab_link": true
    }
  },
  "nbformat": 4,
  "nbformat_minor": 5
}